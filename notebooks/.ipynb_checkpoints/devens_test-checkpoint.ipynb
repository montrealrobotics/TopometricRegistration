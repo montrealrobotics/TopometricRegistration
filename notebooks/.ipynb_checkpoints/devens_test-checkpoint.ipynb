{
 "cells": [
  {
   "cell_type": "markdown",
   "metadata": {},
   "source": [
    "## Topometric Registration Demo"
   ]
  },
  {
   "cell_type": "code",
   "execution_count": 53,
   "metadata": {},
   "outputs": [],
   "source": [
    "import _pickle as pkl\n",
    "import matplotlib.pyplot as plt\n",
    "import networkx as nx\n",
    "import numpy as np\n",
    "import os\n",
    "import pandas as pd\n",
    "import shapely.geometry as geo\n",
    "import subprocess\n",
    "import sys"
   ]
  },
  {
   "cell_type": "code",
   "execution_count": 45,
   "metadata": {},
   "outputs": [],
   "source": [
    "# File paths\n",
    "devens_map_file = '/home/jatavalk/code/TopometricRegistration/devensData/devens_map/devens_map_poly.pkl'\n",
    "osm_nodes_file = '/home/jatavalk/code/TopometricRegistration/devensData/devens_osm/osm_nodes.txt'\n",
    "osm_edges_file = '/home/jatavalk/code/TopometricRegistration/devensData/devens_osm/osm_edges.txt'\n",
    "cloud_file = '/home/jatavalk/datasets/devens/scans_in_utm_annotated_small.pkl'\n",
    "plot_dir = '/home/jatavalk/code/TopometricRegistration/cache/'\n",
    "\n",
    "ceres_build_dir = '/home/jatavalk/code/TopometricRegistration/ceresCode/build/'\n",
    "ceres_input_dir = '/home/jatavalk/code/TopometricRegistration/ceresCode/data/'"
   ]
  },
  {
   "cell_type": "code",
   "execution_count": 4,
   "metadata": {},
   "outputs": [],
   "source": [
    "# Load in data\n",
    "devens_map = pkl.load(open(devens_map_file, 'rb'), encoding = 'bytes')\n",
    "osm_nodes = np.genfromtxt(osm_nodes_file, delimiter = ',')\n",
    "osm_edges = np.genfromtxt(osm_edges_file, delimiter = ',', dtype = int)\n",
    "cloud = pd.read_pickle(cloud_file)"
   ]
  },
  {
   "cell_type": "markdown",
   "metadata": {},
   "source": [
    "### Load up a scan and perform alignment"
   ]
  },
  {
   "cell_type": "code",
   "execution_count": 49,
   "metadata": {},
   "outputs": [],
   "source": [
    "scan_idx = 0\n",
    "\n",
    "scan = cloud.iloc[scan_idx]['scan_utm']\n",
    "road_mask = cloud.iloc[scan_idx]['is_road_truth']\n",
    "road_mask = np.where(road_mask)\n",
    "xmin = min(scan['x'])\n",
    "xmax = max(scan['x'])\n",
    "ymin = min(scan['y'])\n",
    "ymax = max(scan['y'])\n",
    "# print(cloud.iloc[0]['is_road_truth'])\n",
    "# print(xmin, xmax, ymin, ymax)\n",
    "# plt.plot(scan['x'], scan['y'], '.', ms=1)\n",
    "\n",
    "# plot_coords = lambda obj: plt.plot(obj.xy[0],obj.xy[1], 'k')\n",
    "# plot_coords(devens_map.exterior)\n",
    "# [plot_coords(x) for x in devens_map.interiors]\n",
    "# plt.plot((xmin+xmax)/2,(ymin+ymax)/2,'gx')\n",
    "\n",
    "# Extract OSM nodes that are within the distance threshold\n",
    "osm_thresh = 20.\n",
    "xinds = np.where(np.logical_and(osm_nodes[:,0] > xmin, osm_nodes[:,0] < xmax))\n",
    "yinds = np.where(np.logical_and(osm_nodes[:,1] > ymin, osm_nodes[:,1] < ymax))\n",
    "osm_inds = np.intersect1d(xinds, yinds)\n",
    "\n",
    "# Active set of OSM nodes\n",
    "osm_nodes_active = osm_nodes[osm_inds]\n",
    "\n",
    "# Extract LiDAR scan points that correspond to road\n",
    "scan_active = scan[road_mask]\n",
    "# print(scan_active, scan_active.shape)\n",
    "scan_active = np.asarray([[item[0] for item in scan_active], [item[1] for item in scan_active]]).T\n"
   ]
  },
  {
   "cell_type": "code",
   "execution_count": 51,
   "metadata": {},
   "outputs": [],
   "source": [
    "# Create input files for Ceres\n",
    "ceres_input_file_osm = os.path.join(ceres_input_dir, 'osm_nodes.txt')\n",
    "infile_osm = open(ceres_input_file_osm, 'w')\n",
    "infile_osm.write(str(osm_nodes_active.shape[0]) + '\\n')\n",
    "for node in osm_nodes_active:\n",
    "    infile_osm.write(str(node[0]) + ' ' + str(node[1]) + '\\n')\n",
    "infile_osm.close()\n",
    "\n",
    "ceres_input_file_road = os.path.join(ceres_input_dir, 'road.txt')\n",
    "infile_road = open(ceres_input_file_road, 'w')\n",
    "infile_road.write(str(scan_active.shape[0]) + '\\n')\n",
    "for node in scan_active:\n",
    "    infile_road.write(str(node[0]) + ' ' + str(node[1]) + '\\n')\n",
    "infile_road.close()"
   ]
  },
  {
   "cell_type": "code",
   "execution_count": 55,
   "metadata": {},
   "outputs": [
    {
     "ename": "FileNotFoundError",
     "evalue": "[Errno 2] No such file or directory: '/home/jatavalk/code/TopometricRegistration/ceresCode/build/topometricRegistration ': '/home/jatavalk/code/TopometricRegistration/ceresCode/build/topometricRegistration '",
     "output_type": "error",
     "traceback": [
      "\u001b[0;31m---------------------------------------------------------------------------\u001b[0m",
      "\u001b[0;31mFileNotFoundError\u001b[0m                         Traceback (most recent call last)",
      "\u001b[0;32m<ipython-input-55-5e32805d4089>\u001b[0m in \u001b[0;36m<module>\u001b[0;34m\u001b[0m\n\u001b[1;32m      1\u001b[0m \u001b[0;31m# Run the optimizer\u001b[0m\u001b[0;34m\u001b[0m\u001b[0;34m\u001b[0m\u001b[0m\n\u001b[1;32m      2\u001b[0m \u001b[0mceres_command\u001b[0m \u001b[0;34m=\u001b[0m \u001b[0mceres_build_dir\u001b[0m \u001b[0;34m+\u001b[0m \u001b[0;34m'topometricRegistration '\u001b[0m\u001b[0;34m\u001b[0m\u001b[0m\n\u001b[0;32m----> 3\u001b[0;31m \u001b[0msubprocess\u001b[0m\u001b[0;34m.\u001b[0m\u001b[0mcall\u001b[0m\u001b[0;34m(\u001b[0m\u001b[0mceres_command\u001b[0m\u001b[0;34m)\u001b[0m\u001b[0;34m\u001b[0m\u001b[0m\n\u001b[0m",
      "\u001b[0;32m/usr/lib/python3.6/subprocess.py\u001b[0m in \u001b[0;36mcall\u001b[0;34m(timeout, *popenargs, **kwargs)\u001b[0m\n\u001b[1;32m    265\u001b[0m     \u001b[0mretcode\u001b[0m \u001b[0;34m=\u001b[0m \u001b[0mcall\u001b[0m\u001b[0;34m(\u001b[0m\u001b[0;34m[\u001b[0m\u001b[0;34m\"ls\"\u001b[0m\u001b[0;34m,\u001b[0m \u001b[0;34m\"-l\"\u001b[0m\u001b[0;34m]\u001b[0m\u001b[0;34m)\u001b[0m\u001b[0;34m\u001b[0m\u001b[0m\n\u001b[1;32m    266\u001b[0m     \"\"\"\n\u001b[0;32m--> 267\u001b[0;31m     \u001b[0;32mwith\u001b[0m \u001b[0mPopen\u001b[0m\u001b[0;34m(\u001b[0m\u001b[0;34m*\u001b[0m\u001b[0mpopenargs\u001b[0m\u001b[0;34m,\u001b[0m \u001b[0;34m**\u001b[0m\u001b[0mkwargs\u001b[0m\u001b[0;34m)\u001b[0m \u001b[0;32mas\u001b[0m \u001b[0mp\u001b[0m\u001b[0;34m:\u001b[0m\u001b[0;34m\u001b[0m\u001b[0m\n\u001b[0m\u001b[1;32m    268\u001b[0m         \u001b[0;32mtry\u001b[0m\u001b[0;34m:\u001b[0m\u001b[0;34m\u001b[0m\u001b[0m\n\u001b[1;32m    269\u001b[0m             \u001b[0;32mreturn\u001b[0m \u001b[0mp\u001b[0m\u001b[0;34m.\u001b[0m\u001b[0mwait\u001b[0m\u001b[0;34m(\u001b[0m\u001b[0mtimeout\u001b[0m\u001b[0;34m=\u001b[0m\u001b[0mtimeout\u001b[0m\u001b[0;34m)\u001b[0m\u001b[0;34m\u001b[0m\u001b[0m\n",
      "\u001b[0;32m/usr/lib/python3.6/subprocess.py\u001b[0m in \u001b[0;36m__init__\u001b[0;34m(self, args, bufsize, executable, stdin, stdout, stderr, preexec_fn, close_fds, shell, cwd, env, universal_newlines, startupinfo, creationflags, restore_signals, start_new_session, pass_fds, encoding, errors)\u001b[0m\n\u001b[1;32m    707\u001b[0m                                 \u001b[0mc2pread\u001b[0m\u001b[0;34m,\u001b[0m \u001b[0mc2pwrite\u001b[0m\u001b[0;34m,\u001b[0m\u001b[0;34m\u001b[0m\u001b[0m\n\u001b[1;32m    708\u001b[0m                                 \u001b[0merrread\u001b[0m\u001b[0;34m,\u001b[0m \u001b[0merrwrite\u001b[0m\u001b[0;34m,\u001b[0m\u001b[0;34m\u001b[0m\u001b[0m\n\u001b[0;32m--> 709\u001b[0;31m                                 restore_signals, start_new_session)\n\u001b[0m\u001b[1;32m    710\u001b[0m         \u001b[0;32mexcept\u001b[0m\u001b[0;34m:\u001b[0m\u001b[0;34m\u001b[0m\u001b[0m\n\u001b[1;32m    711\u001b[0m             \u001b[0;31m# Cleanup if the child failed starting.\u001b[0m\u001b[0;34m\u001b[0m\u001b[0;34m\u001b[0m\u001b[0m\n",
      "\u001b[0;32m/usr/lib/python3.6/subprocess.py\u001b[0m in \u001b[0;36m_execute_child\u001b[0;34m(self, args, executable, preexec_fn, close_fds, pass_fds, cwd, env, startupinfo, creationflags, shell, p2cread, p2cwrite, c2pread, c2pwrite, errread, errwrite, restore_signals, start_new_session)\u001b[0m\n\u001b[1;32m   1342\u001b[0m                         \u001b[0;32mif\u001b[0m \u001b[0merrno_num\u001b[0m \u001b[0;34m==\u001b[0m \u001b[0merrno\u001b[0m\u001b[0;34m.\u001b[0m\u001b[0mENOENT\u001b[0m\u001b[0;34m:\u001b[0m\u001b[0;34m\u001b[0m\u001b[0m\n\u001b[1;32m   1343\u001b[0m                             \u001b[0merr_msg\u001b[0m \u001b[0;34m+=\u001b[0m \u001b[0;34m': '\u001b[0m \u001b[0;34m+\u001b[0m \u001b[0mrepr\u001b[0m\u001b[0;34m(\u001b[0m\u001b[0merr_filename\u001b[0m\u001b[0;34m)\u001b[0m\u001b[0;34m\u001b[0m\u001b[0m\n\u001b[0;32m-> 1344\u001b[0;31m                     \u001b[0;32mraise\u001b[0m \u001b[0mchild_exception_type\u001b[0m\u001b[0;34m(\u001b[0m\u001b[0merrno_num\u001b[0m\u001b[0;34m,\u001b[0m \u001b[0merr_msg\u001b[0m\u001b[0;34m,\u001b[0m \u001b[0merr_filename\u001b[0m\u001b[0;34m)\u001b[0m\u001b[0;34m\u001b[0m\u001b[0m\n\u001b[0m\u001b[1;32m   1345\u001b[0m                 \u001b[0;32mraise\u001b[0m \u001b[0mchild_exception_type\u001b[0m\u001b[0;34m(\u001b[0m\u001b[0merr_msg\u001b[0m\u001b[0;34m)\u001b[0m\u001b[0;34m\u001b[0m\u001b[0m\n\u001b[1;32m   1346\u001b[0m \u001b[0;34m\u001b[0m\u001b[0m\n",
      "\u001b[0;31mFileNotFoundError\u001b[0m: [Errno 2] No such file or directory: '/home/jatavalk/code/TopometricRegistration/ceresCode/build/topometricRegistration ': '/home/jatavalk/code/TopometricRegistration/ceresCode/build/topometricRegistration '"
     ]
    }
   ],
   "source": [
    "# Run the optimizer\n",
    "# ceres_command = ceres_build_dir + 'topometricRegistration'\n",
    "ceres_command = '/home/jatavalk/code/TopometricRegistration/ceresCode/build/topometricRegistration'\n",
    "subprocess.call(ceres_command)"
   ]
  },
  {
   "cell_type": "code",
   "execution_count": 5,
   "metadata": {},
   "outputs": [
    {
     "name": "stdout",
     "output_type": "stream",
     "text": [
      "152\n",
      "(111360,) (111360,)\n"
     ]
    },
    {
     "data": {
      "image/png": "[encoded data removed]",
      "text/plain": [
       "<Figure size 432x288 with 1 Axes>"
      ]
     },
     "metadata": {
      "needs_background": "light"
     },
     "output_type": "display_data"
    }
   ],
   "source": [
    "# Get road points\n",
    "interior_pts = None\n",
    "i = 0\n",
    "for obj in devens_map.interiors:\n",
    "\tif i >= 4:\n",
    "\t\tif interior_pts is None:\n",
    "\t\t\tinterior_pts = np.concatenate([np.expand_dims(obj.xy[0], axis=1), np.expand_dims(obj.xy[1], axis=1)], axis=1)\t\n",
    "\t\telse:\n",
    "\t\t\tinterior_pts = np.concatenate([interior_pts, np.concatenate([np.expand_dims(obj.xy[0], axis = 1), np.expand_dims(obj.xy[1], axis = 1)], \\\n",
    "\t\t\t\taxis = 1)], axis = 0)\n",
    "\t\t# print(interior_pts.shape)\n",
    "\t\t# plt.plot(obj.xy[0], obj.xy[1], 'k')\n",
    "\ti += 1\n",
    "\n",
    "# plt.scatter(interior_pts[:,0], interior_pts[:,1])\n",
    "# plt.savefig(plot_dir + 'tmp.png')\n",
    "\n",
    "\n",
    "# # Compute an approximate bounding rectangle of the road points\n",
    "# x_min = np.min(interior_pts[:,0])\n",
    "# x_max = np.max(interior_pts[:,0])\n",
    "# y_min = np.min(interior_pts[:,1])\n",
    "# y_max = np.max(interior_pts[:,1])\n",
    "\n",
    "# # Get osm nodes (that are within a 10 meter radius of the approx bounding rectangle)\n",
    "# osm_thresh = 10.\n",
    "\n",
    "# osm_indices = []\n",
    "# for i in range(osm_nodes.shape[0]):\n",
    "# \tif x_min < osm_nodes[i,0] < x_max and y_min < osm_nodes[i,1] < y_max:\n",
    "# \t\tosm_indices.append(i)\n",
    "\n",
    "# Compute the centroid of the road points\n",
    "x_cent = np.mean(interior_pts[:,0])\n",
    "y_cent = np.mean(interior_pts[:,1])\n",
    "\n",
    "# Get OSM nodes that are within a distance threshold from the centroid\n",
    "osm_thresh = 10000.\n",
    "osm_indices = []\n",
    "for i in range(osm_nodes.shape[0]):\n",
    "\tif np.sqrt((osm_nodes[i,0]-x_cent)**2 + (osm_nodes[i,1]-y_cent)**2) <= osm_thresh:\n",
    "\t\tosm_indices.append(i)\n",
    "print(len(osm_indices))\n",
    "plt.scatter([osm_nodes[i,0] for i in osm_indices], [osm_nodes[i,1] for i in osm_indices])\n",
    "plt.savefig(plot_dir + 'tmp.png')\n",
    "\n",
    "\n",
    "scan = cloud.iloc[0]['scan_utm']\n",
    "print(scan['x'].shape, scan['y'].shape)"
   ]
  },
  {
   "cell_type": "code",
   "execution_count": null,
   "metadata": {},
   "outputs": [],
   "source": []
  }
 ],
 "metadata": {
  "kernelspec": {
   "display_name": "maplite",
   "language": "python",
   "name": "maplite"
  },
  "language_info": {
   "codemirror_mode": {
    "name": "ipython",
    "version": 3
   },
   "file_extension": ".py",
   "mimetype": "text/x-python",
   "name": "python",
   "nbconvert_exporter": "python",
   "pygments_lexer": "ipython3",
   "version": "3.6.5"
  }
 },
 "nbformat": 4,
 "nbformat_minor": 2
}
