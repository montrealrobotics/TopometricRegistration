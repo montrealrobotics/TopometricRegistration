{
 "cells": [
  {
   "cell_type": "markdown",
   "metadata": {},
   "source": [
    "# Topometric registration full version\n",
    "\n",
    "This notebook presents a short demo of running topometric registration on the Devens pickle file using Ceres solver as a backend optimizer."
   ]
  },
  {
   "cell_type": "code",
   "execution_count": 1,
   "metadata": {},
   "outputs": [],
   "source": [
    "import gc\n",
    "import _pickle as pkl\n",
    "import matplotlib.pyplot as plt\n",
    "import shapely.geometry as geo\n",
    "import numpy as np\n",
    "import networkx as nx\n",
    "import os\n",
    "import pandas as pd\n",
    "from scipy.optimize import minimize\n",
    "import subprocess\n",
    "import sys"
   ]
  },
  {
   "cell_type": "code",
   "execution_count": 57,
   "metadata": {},
   "outputs": [],
   "source": [
    "# Set all file paths here\n",
    "\n",
    "# Current dir\n",
    "# dirname = os.path.dirname(__file__)\n",
    "basedir = '/home/jatavalk/code/TopometricRegistration/notebooks/'\n",
    "datadir = '/home/jatavalk/data/devens/chunks/'\n",
    "\n",
    "# Input OpenStreetMap (OSM)\n",
    "osm_nodes_file = os.path.join(basedir, '../devensData/devens_osm/osm_nodes.txt')\n",
    "osm_edges_file = os.path.join(basedir, '../devensData/devens_osm/osm_edges.txt')\n",
    "\n",
    "# Directory to store plots at\n",
    "plot_dir = os.path.join(basedir, '../cache')\n",
    "\n",
    "# Pickle file containing annotated scans\n",
    "pickle_scan_file = os.path.join(datadir, 'scans_in_utm_annotated_000050_000100.pkl')\n",
    "\n",
    "# Path to ground-truth OSM (for accuracy evaluation)\n",
    "osm_gt_nodes_file = os.path.join(basedir, '../devensData/devens_osm/osm_nodes_truth.txt')\n",
    "osm_gt_edges_file = os.path.join(basedir, '../devensData/devens_osm/osm_edges_truth.txt')\n",
    "\n",
    "# Devens map (for reference sake, and for visualization; stored as a shapeley polygon)\n",
    "devens_map_file = os.path.join(basedir, '../devensData/devens_map/devens_map_poly.pkl')\n",
    "\n",
    "# Ceres solver paths\n",
    "ceres_build_dir = '/home/jatavalk/code/TopometricRegistration/ceresCode/build/'\n",
    "ceres_input_dir = '/home/jatavalk/code/TopometricRegistration/ceresCode/data/'\n",
    "ceres_command = ceres_build_dir + 'topometricRegistration'"
   ]
  },
  {
   "cell_type": "code",
   "execution_count": 58,
   "metadata": {},
   "outputs": [],
   "source": [
    "# All important hyperparameters are set here\n",
    "\n",
    "# Random seed\n",
    "randomseed = 1234\n",
    "\n",
    "# Threshold distance within which OSM nodes are retained\n",
    "osm_thresh = 5.\n",
    "\n",
    "# Translational noise in OSM perturbation (along the X and Y directions)\n",
    "trans_noise = 5.\n",
    "# Rotational noise in OSM perturbation (about the Z-axis) (degrees-to-radians)\n",
    "rot_noise = np.deg2rad(10.)\n",
    "\n",
    "# Neighborhood distance to consider when associating OSM nodes to road points\n",
    "nbd = 3.\n",
    "\n",
    "# Number of scan points to skip (it's tedious to process all of them, so we add constraints to only a few points)\n",
    "scan_points_to_skip = 10"
   ]
  },
  {
   "cell_type": "code",
   "execution_count": 59,
   "metadata": {},
   "outputs": [],
   "source": [
    "# Load data in\n",
    "\n",
    "# OSM\n",
    "osm_nodes = np.genfromtxt(osm_nodes_file, delimiter = ',')\n",
    "osm_edges = np.genfromtxt(osm_edges_file, delimiter = ',', dtype = int)\n",
    "\n",
    "# Create a graph of the osm nodes and edges\n",
    "osm_graph = nx.Graph()\n",
    "osm_graph.add_nodes_from(range(len(osm_nodes)))\n",
    "osm_graph.add_edges_from(osm_edges)\n",
    "\n",
    "# OSM Ground-truth\n",
    "osm_gt_nodes = np.genfromtxt(osm_gt_nodes_file, delimiter = ',')\n",
    "osm_gt_edges = np.genfromtxt(osm_gt_edges_file, delimiter = ',', dtype = int)\n",
    "\n",
    "# Annotated Velodyne scans in UTM frame\n",
    "all_scans = pd.read_pickle(pickle_scan_file)\n",
    "# # Throw away latitude, longitude information\n",
    "# all_scans = all_scans.loc[:,'theta':]"
   ]
  },
  {
   "cell_type": "markdown",
   "metadata": {},
   "source": [
    "### Helper functions\n",
    "Functions to help add noise to an OSM/scan (i.e., rotate/translate/both, etc.)."
   ]
  },
  {
   "cell_type": "code",
   "execution_count": null,
   "metadata": {},
   "outputs": [],
   "source": [
    "# Construct rotation matrix about Z-axis, given theta (in radians)\n",
    "def rotz(theta):\n",
    "    return np.array([[np.cos(theta), -np.sin(theta)], [np.sin(theta), np.cos(theta)]])\n",
    "\n",
    "# Function to rotate a scan by a fixed angle theta\n",
    "def rotate_points(points, theta):\n",
    "    # Assumes that points is an N-by-2 numpy array\n",
    "    if points.shape[1] != 2:\n",
    "        points = points.T\n",
    "    # "
   ]
  },
  {
   "cell_type": "markdown",
   "metadata": {},
   "source": [
    "### Main processing loop\n",
    "\n",
    "Iterate over all scans in the current pickle file, perturb the OSM nodes around the location, and perform *TopometricRegistration* on the perturbed OSM. Then, visualize the initial vs optimized OSMs, and also compute error metrics wrt the ground-truth OSM."
   ]
  },
  {
   "cell_type": "code",
   "execution_count": 60,
   "metadata": {},
   "outputs": [
    {
     "name": "stdout",
     "output_type": "stream",
     "text": [
      "50 scans loaded ...\n",
      "[0, 1, 2, 3, 4, 5, 6, 7, 8, 9] [(0, 2), (1, 5), (1, 9), (2, 7), (3, 7), (3, 8), (4, 7), (5, 7), (6, 8)]\n",
      "Trans error: [[ 0.68289681 -3.11129113]]\n"
     ]
    },
    {
     "name": "stderr",
     "output_type": "stream",
     "text": [
      "/home/jatavalk/.local/lib/python3.6/site-packages/networkx/drawing/nx_pylab.py:611: MatplotlibDeprecationWarning: isinstance(..., numbers.Number)\n",
      "  if cb.is_numlike(alpha):\n"
     ]
    },
    {
     "data": {
      "image/png": "[encoded data removed]",
      "text/plain": [
       "<Figure size 432x288 with 1 Axes>"
      ]
     },
     "metadata": {},
     "output_type": "display_data"
    }
   ],
   "source": [
    "# Seed RNG, for repeatability\n",
    "# np.random.seed(randomseed)\n",
    "\n",
    "print(str(len(all_scans.index)) + ' scans loaded ...')\n",
    "for scanidx in range(1):\n",
    "    # Point cloud in UTM frame\n",
    "    scan = all_scans.iloc[scanidx]['scan_utm']\n",
    "    # Get indices of road points\n",
    "    road_indices = all_scans.iloc[scanidx]['is_road_truth']\n",
    "    road_indices = np.where(road_indices)\n",
    "    # Get indices of non-NaN points\n",
    "    non_nan_indices = np.logical_not(all_scans.iloc[scanidx]['nan'])\n",
    "    non_nan_indices = np.where(non_nan_indices)\n",
    "    # Get indices of non-NaN \"road\" points\n",
    "    active_indices = np.intersect1d(road_indices, non_nan_indices)\n",
    "    scan_active = scan[active_indices]\n",
    "    scan_active = np.asarray([[item[0] for item in scan_active], [item[1] for item in scan_active], [item[2] for item in scan_active]]).T\n",
    "    # print(scan_active.shape)\n",
    "    \n",
    "    # Compute a bounding rectangle around the active scan points\n",
    "    xmin, ymin = scan_active.min(0)[0], scan_active.min(0)[0]\n",
    "    xmax, ymax = scan_active.max(0)[0], scan_active.max(0)[0]\n",
    "    \n",
    "    # We only care about OSM nodes that lie within a threshold distance of the sensor swath (scan boundaries)\n",
    "    xinds = np.where(np.logical_and(osm_nodes[:,0] > xmin - osm_thresh, osm_nodes[:,0] < xmax + osm_thresh))\n",
    "    yinds = np.where(np.logical_and(osm_nodes[:,1] > ymin - osm_thresh, osm_nodes[:,1] < ymax + osm_thresh))\n",
    "    osm_inds = np.intersect1d(xinds, yinds)\n",
    "    # print(osm_inds)\n",
    "    osm_active = osm_nodes[osm_inds]\n",
    "    osm_subgraph = osm_graph.subgraph(osm_inds)\n",
    "    osm_subgraph = nx.convert_node_labels_to_integers(osm_subgraph)\n",
    "    print(osm_subgraph.nodes(), osm_subgraph.edges())\n",
    "    \n",
    "    # Perturb the initial OSM (to simulate error)\n",
    "    trans_error = np.random.normal([0., 0.], [trans_noise, trans_noise], [1, 2])\n",
    "    print('Trans error:', trans_error)\n",
    "    osm_perturbed = osm_active + trans_error\n",
    "    \n",
    "    # Create input files for Ceres: Write OSM to file\n",
    "    ceres_input_file_osm = os.path.join(ceres_input_dir, 'osm_nodes_noisy.txt')\n",
    "    infile_osm = open(ceres_input_file_osm, 'w')\n",
    "    infile_osm.write(str(osm_active.shape[0]) + '\\n')\n",
    "    for nodeidx in range(osm_active.shape[0]):\n",
    "        infile_osm.write(str(osm_active[nodeidx,0]) + ' ' + str(osm_active[nodeidx,1]) + '\\n')\n",
    "    infile_osm.close()\n",
    "    \n",
    "    # Create input files for Ceres: Write scan points to file\n",
    "    ceres_input_file_constraints = os.path.join(ceres_input_dir, 'constraints.txt')\n",
    "    # For each OSM node, get scan points in a bounding box of threshold distance\n",
    "    infile_constraints = open(ceres_input_file_constraints, 'w')\n",
    "    infile_constraints.write('{}\\n'.format(osm_active.shape[0]))\n",
    "    num_constraints = []\n",
    "    out_str = ''\n",
    "    for nodeidx in range(osm_active.shape[0]):\n",
    "        x_cur, y_cur = osm_active[nodeidx,0], osm_active[nodeidx,1]\n",
    "        cur_xinds = np.where(np.logical_and(scan_active[:,0] > x_cur - nbd, scan_active[:,0] < x_cur + nbd))\n",
    "        cur_yinds = np.where(np.logical_and(scan_active[:,1] > y_cur - nbd, scan_active[:,1] < y_cur + nbd))\n",
    "        cur_inds = np.intersect1d(cur_xinds, cur_yinds)\n",
    "        neighbors = scan_active[cur_inds,:]\n",
    "        \n",
    "        # # Visualize this neighborhood sampling\n",
    "        # plt.scatter(scan_active[:,0], scan_active[:,1])\n",
    "        # plt.scatter(x_cur, y_cur)\n",
    "        # plt.scatter([x_cur-nbd, x_cur-nbd, x_cur+nbd, x_cur+nbd], [y_cur-nbd, y_cur+nbd, y_cur-nbd, y_cur+nbd])\n",
    "        # plt.scatter(scan_active[cur_inds,0], scan_active[cur_inds,1])\n",
    "        \n",
    "        # Write the constraints to file\n",
    "        num_constraints.append(neighbors.shape[0])\n",
    "        # infile_constraints.write('{}\\n'.format(neighbors.shape[0]))\n",
    "        for n in neighbors:\n",
    "            out_str += '{} {}\\n'.format(n[0], n[1])\n",
    "            # infile_constraints.write('{} {}\\n'.format(n[0], n[1]))\n",
    "    for n in num_constraints:\n",
    "        infile_constraints.write('{} '.format(n))\n",
    "    infile_constraints.write('\\n')\n",
    "    infile_constraints.write(out_str)\n",
    "            \n",
    "    infile_constraints.close()\n",
    "    \n",
    "    # Run the optimizer\n",
    "    subprocess.call(ceres_command)\n",
    "    \n",
    "    # Read in the results\n",
    "    ceres_output_file = os.path.join(ceres_input_dir, 'output.txt')\n",
    "    osm_nodes_optimized = np.copy(osm_active)\n",
    "    outfile = open(ceres_output_file)\n",
    "    lines = outfile.readlines()\n",
    "    j = 0\n",
    "    for line in lines:\n",
    "        if j == 0:\n",
    "            j += 1\n",
    "            continue\n",
    "        line = line.strip().split()\n",
    "        osm_nodes_optimized[j-1,0] = line[0]\n",
    "        osm_nodes_optimized[j-1,1] = line[1]\n",
    "        j += 1\n",
    "    outfile.close()\n",
    "    \n",
    "    # Visualize scan points and OSM\n",
    "    plt.scatter(scan_active[:,0], scan_active[:,1])\n",
    "    plt.scatter(osm_active[:,0], osm_active[:,1])\n",
    "    nx.draw(osm_subgraph, pos = osm_active)\n",
    "    nx.draw(osm_subgraph, pos = osm_perturbed, node_color='b')\n",
    "    nx.draw(osm_subgraph, pos = osm_nodes_optimized, node_color='g')\n",
    "    \n",
    "    "
   ]
  },
  {
   "cell_type": "code",
   "execution_count": null,
   "metadata": {},
   "outputs": [],
   "source": []
  }
 ],
 "metadata": {
  "kernelspec": {
   "display_name": "maplite",
   "language": "python",
   "name": "maplite"
  },
  "language_info": {
   "codemirror_mode": {
    "name": "ipython",
    "version": 3
   },
   "file_extension": ".py",
   "mimetype": "text/x-python",
   "name": "python",
   "nbconvert_exporter": "python",
   "pygments_lexer": "ipython3",
   "version": "3.6.5"
  }
 },
 "nbformat": 4,
 "nbformat_minor": 2
}
