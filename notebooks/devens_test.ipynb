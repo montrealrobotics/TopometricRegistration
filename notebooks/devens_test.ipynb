{
 "cells": [
  {
   "cell_type": "markdown",
   "metadata": {},
   "source": [
    "## Topometric Registration Demo"
   ]
  },
  {
   "cell_type": "code",
   "execution_count": 69,
   "metadata": {},
   "outputs": [],
   "source": [
    "import _pickle as pkl\n",
    "import matplotlib.pyplot as plt\n",
    "import networkx as nx\n",
    "import numpy as np\n",
    "import os\n",
    "import pandas as pd\n",
    "import shapely.geometry as geo\n",
    "import subprocess\n",
    "import sys"
   ]
  },
  {
   "cell_type": "code",
   "execution_count": 70,
   "metadata": {},
   "outputs": [],
   "source": [
    "# File paths\n",
    "devens_map_file = '/home/jatavalk/code/TopometricRegistration/devensData/devens_map/devens_map_poly.pkl'\n",
    "osm_nodes_file = '/home/jatavalk/code/TopometricRegistration/devensData/devens_osm/osm_nodes.txt'\n",
    "osm_edges_file = '/home/jatavalk/code/TopometricRegistration/devensData/devens_osm/osm_edges.txt'\n",
    "cloud_file = '/home/jatavalk/datasets/devens/scans_in_utm_annotated_small.pkl'\n",
    "plot_dir = '/home/jatavalk/code/TopometricRegistration/cache/'\n",
    "\n",
    "ceres_build_dir = '/home/jatavalk/code/TopometricRegistration/ceresCode/build/'\n",
    "ceres_input_dir = '/home/jatavalk/code/TopometricRegistration/ceresCode/data/'"
   ]
  },
  {
   "cell_type": "code",
   "execution_count": 71,
   "metadata": {},
   "outputs": [],
   "source": [
    "# Load in data\n",
    "devens_map = pkl.load(open(devens_map_file, 'rb'), encoding = 'bytes')\n",
    "osm_nodes = np.genfromtxt(osm_nodes_file, delimiter = ',')\n",
    "osm_edges = np.genfromtxt(osm_edges_file, delimiter = ',', dtype = int)\n",
    "cloud = pd.read_pickle(cloud_file)"
   ]
  },
  {
   "cell_type": "markdown",
   "metadata": {},
   "source": [
    "### Load up a scan and perform alignment"
   ]
  },
  {
   "cell_type": "code",
   "execution_count": 72,
   "metadata": {},
   "outputs": [],
   "source": [
    "scan_idx = 0\n",
    "\n",
    "scan = cloud.iloc[scan_idx]['scan_utm']\n",
    "road_mask = cloud.iloc[scan_idx]['is_road_truth']\n",
    "road_mask = np.where(road_mask)\n",
    "xmin = min(scan['x'])\n",
    "xmax = max(scan['x'])\n",
    "ymin = min(scan['y'])\n",
    "ymax = max(scan['y'])\n",
    "# print(cloud.iloc[0]['is_road_truth'])\n",
    "# print(xmin, xmax, ymin, ymax)\n",
    "# plt.plot(scan['x'], scan['y'], '.', ms=1)\n",
    "\n",
    "# plot_coords = lambda obj: plt.plot(obj.xy[0],obj.xy[1], 'k')\n",
    "# plot_coords(devens_map.exterior)\n",
    "# [plot_coords(x) for x in devens_map.interiors]\n",
    "# plt.plot((xmin+xmax)/2,(ymin+ymax)/2,'gx')\n",
    "\n",
    "# Extract OSM nodes that are within the distance threshold\n",
    "osm_thresh = 20.\n",
    "xinds = np.where(np.logical_and(osm_nodes[:,0] > xmin, osm_nodes[:,0] < xmax))\n",
    "yinds = np.where(np.logical_and(osm_nodes[:,1] > ymin, osm_nodes[:,1] < ymax))\n",
    "osm_inds = np.intersect1d(xinds, yinds)\n",
    "\n",
    "# Active set of OSM nodes\n",
    "osm_nodes_active = osm_nodes[osm_inds]\n",
    "\n",
    "# Extract LiDAR scan points that correspond to road\n",
    "scan_active = scan[road_mask]\n",
    "# print(scan_active, scan_active.shape)\n",
    "scan_active = np.asarray([[item[0] for item in scan_active], [item[1] for item in scan_active]]).T\n"
   ]
  },
  {
   "cell_type": "code",
   "execution_count": 64,
   "metadata": {},
   "outputs": [],
   "source": [
    "# Create input files for Ceres\n",
    "ceres_input_file_osm = os.path.join(ceres_input_dir, 'osm_nodes_noisy.txt')\n",
    "infile_osm = open(ceres_input_file_osm, 'w')\n",
    "infile_osm.write(str(osm_nodes_active.shape[0]) + '\\n')\n",
    "for node in osm_nodes_active:\n",
    "    infile_osm.write(str(node[0]) + ' ' + str(node[1]) + '\\n')\n",
    "infile_osm.close()\n",
    "\n",
    "ceres_input_file_road = os.path.join(ceres_input_dir, 'road.txt')\n",
    "infile_road = open(ceres_input_file_road, 'w')\n",
    "infile_road.write(str(scan_active.shape[0]) + '\\n')\n",
    "for node in scan_active:\n",
    "    infile_road.write(str(node[0]) + ' ' + str(node[1]) + '\\n')\n",
    "infile_road.close()"
   ]
  },
  {
   "cell_type": "code",
   "execution_count": null,
   "metadata": {},
   "outputs": [],
   "source": [
    "# Run the optimizer\n",
    "# ceres_command = ceres_build_dir + 'topometricRegistration'\n",
    "ceres_command = '/home/jatavalk/code/TopometricRegistration/ceresCode/build/topometricRegistration'\n",
    "subprocess.call(ceres_command, stdout = sys.stdout)"
   ]
  },
  {
   "cell_type": "code",
   "execution_count": 87,
   "metadata": {},
   "outputs": [
    {
     "name": "stdout",
     "output_type": "stream",
     "text": [
      "(17, 2)\n"
     ]
    }
   ],
   "source": [
    "# Read in the results\n",
    "ceres_output_file = os.path.join(ceres_input_dir, 'output.txt')\n",
    "osm_nodes_optimized = np.copy(osm_nodes_active)\n",
    "outfile = open(ceres_output_file)\n",
    "lines = outfile.readlines()\n",
    "# print(osm_nodes_active.shape)\n",
    "i = 0\n",
    "for line in lines:\n",
    "    if i == 0:\n",
    "        i += 1\n",
    "        continue\n",
    "    line = line.strip().split()\n",
    "    osm_nodes_optimized[i-1,0] = line[0]\n",
    "    osm_nodes_optimized[i-1,1] = line[1]\n",
    "    i += 1\n",
    "    \n",
    "# print(osm_nodes_optimized)"
   ]
  },
  {
   "cell_type": "code",
   "execution_count": 93,
   "metadata": {},
   "outputs": [
    {
     "ename": "IndexError",
     "evalue": "index 109 is out of bounds for axis 0 with size 17",
     "output_type": "error",
     "traceback": [
      "\u001b[0;31m---------------------------------------------------------------------------\u001b[0m",
      "\u001b[0;31mIndexError\u001b[0m                                Traceback (most recent call last)",
      "\u001b[0;32m<ipython-input-93-3285bde4fdc3>\u001b[0m in \u001b[0;36m<module>\u001b[0;34m\u001b[0m\n\u001b[1;32m     13\u001b[0m \u001b[0mG_init\u001b[0m\u001b[0;34m.\u001b[0m\u001b[0madd_edges_from\u001b[0m\u001b[0;34m(\u001b[0m\u001b[0mosm_edges_active\u001b[0m\u001b[0;34m)\u001b[0m\u001b[0;34m\u001b[0m\u001b[0m\n\u001b[1;32m     14\u001b[0m \u001b[0;34m\u001b[0m\u001b[0m\n\u001b[0;32m---> 15\u001b[0;31m \u001b[0mnx\u001b[0m\u001b[0;34m.\u001b[0m\u001b[0mdraw\u001b[0m\u001b[0;34m(\u001b[0m\u001b[0mG_init\u001b[0m\u001b[0;34m,\u001b[0m \u001b[0mpos\u001b[0m \u001b[0;34m=\u001b[0m \u001b[0mosm_nodes_active\u001b[0m\u001b[0;34m)\u001b[0m\u001b[0;34m\u001b[0m\u001b[0m\n\u001b[0m",
      "\u001b[0;32m~/code/maplite/lib/python3.6/site-packages/networkx/drawing/nx_pylab.py\u001b[0m in \u001b[0;36mdraw\u001b[0;34m(G, pos, ax, **kwds)\u001b[0m\n\u001b[1;32m    124\u001b[0m \u001b[0;34m\u001b[0m\u001b[0m\n\u001b[1;32m    125\u001b[0m     \u001b[0;32mtry\u001b[0m\u001b[0;34m:\u001b[0m\u001b[0;34m\u001b[0m\u001b[0m\n\u001b[0;32m--> 126\u001b[0;31m         \u001b[0mdraw_networkx\u001b[0m\u001b[0;34m(\u001b[0m\u001b[0mG\u001b[0m\u001b[0;34m,\u001b[0m \u001b[0mpos\u001b[0m\u001b[0;34m=\u001b[0m\u001b[0mpos\u001b[0m\u001b[0;34m,\u001b[0m \u001b[0max\u001b[0m\u001b[0;34m=\u001b[0m\u001b[0max\u001b[0m\u001b[0;34m,\u001b[0m \u001b[0;34m**\u001b[0m\u001b[0mkwds\u001b[0m\u001b[0;34m)\u001b[0m\u001b[0;34m\u001b[0m\u001b[0m\n\u001b[0m\u001b[1;32m    127\u001b[0m         \u001b[0max\u001b[0m\u001b[0;34m.\u001b[0m\u001b[0mset_axis_off\u001b[0m\u001b[0;34m(\u001b[0m\u001b[0;34m)\u001b[0m\u001b[0;34m\u001b[0m\u001b[0m\n\u001b[1;32m    128\u001b[0m         \u001b[0mplt\u001b[0m\u001b[0;34m.\u001b[0m\u001b[0mdraw_if_interactive\u001b[0m\u001b[0;34m(\u001b[0m\u001b[0;34m)\u001b[0m\u001b[0;34m\u001b[0m\u001b[0m\n",
      "\u001b[0;32m~/code/maplite/lib/python3.6/site-packages/networkx/drawing/nx_pylab.py\u001b[0m in \u001b[0;36mdraw_networkx\u001b[0;34m(G, pos, arrows, with_labels, **kwds)\u001b[0m\n\u001b[1;32m    275\u001b[0m         \u001b[0mpos\u001b[0m \u001b[0;34m=\u001b[0m \u001b[0mnx\u001b[0m\u001b[0;34m.\u001b[0m\u001b[0mdrawing\u001b[0m\u001b[0;34m.\u001b[0m\u001b[0mspring_layout\u001b[0m\u001b[0;34m(\u001b[0m\u001b[0mG\u001b[0m\u001b[0;34m)\u001b[0m  \u001b[0;31m# default to spring layout\u001b[0m\u001b[0;34m\u001b[0m\u001b[0m\n\u001b[1;32m    276\u001b[0m \u001b[0;34m\u001b[0m\u001b[0m\n\u001b[0;32m--> 277\u001b[0;31m     \u001b[0mnode_collection\u001b[0m \u001b[0;34m=\u001b[0m \u001b[0mdraw_networkx_nodes\u001b[0m\u001b[0;34m(\u001b[0m\u001b[0mG\u001b[0m\u001b[0;34m,\u001b[0m \u001b[0mpos\u001b[0m\u001b[0;34m,\u001b[0m \u001b[0;34m**\u001b[0m\u001b[0mkwds\u001b[0m\u001b[0;34m)\u001b[0m\u001b[0;34m\u001b[0m\u001b[0m\n\u001b[0m\u001b[1;32m    278\u001b[0m     \u001b[0medge_collection\u001b[0m \u001b[0;34m=\u001b[0m \u001b[0mdraw_networkx_edges\u001b[0m\u001b[0;34m(\u001b[0m\u001b[0mG\u001b[0m\u001b[0;34m,\u001b[0m \u001b[0mpos\u001b[0m\u001b[0;34m,\u001b[0m \u001b[0marrows\u001b[0m\u001b[0;34m=\u001b[0m\u001b[0marrows\u001b[0m\u001b[0;34m,\u001b[0m \u001b[0;34m**\u001b[0m\u001b[0mkwds\u001b[0m\u001b[0;34m)\u001b[0m\u001b[0;34m\u001b[0m\u001b[0m\n\u001b[1;32m    279\u001b[0m     \u001b[0;32mif\u001b[0m \u001b[0mwith_labels\u001b[0m\u001b[0;34m:\u001b[0m\u001b[0;34m\u001b[0m\u001b[0m\n",
      "\u001b[0;32m~/code/maplite/lib/python3.6/site-packages/networkx/drawing/nx_pylab.py\u001b[0m in \u001b[0;36mdraw_networkx_nodes\u001b[0;34m(G, pos, nodelist, node_size, node_color, node_shape, alpha, cmap, vmin, vmax, ax, linewidths, edgecolors, label, **kwds)\u001b[0m\n\u001b[1;32m    392\u001b[0m \u001b[0;34m\u001b[0m\u001b[0m\n\u001b[1;32m    393\u001b[0m     \u001b[0;32mtry\u001b[0m\u001b[0;34m:\u001b[0m\u001b[0;34m\u001b[0m\u001b[0m\n\u001b[0;32m--> 394\u001b[0;31m         \u001b[0mxy\u001b[0m \u001b[0;34m=\u001b[0m \u001b[0mnp\u001b[0m\u001b[0;34m.\u001b[0m\u001b[0masarray\u001b[0m\u001b[0;34m(\u001b[0m\u001b[0;34m[\u001b[0m\u001b[0mpos\u001b[0m\u001b[0;34m[\u001b[0m\u001b[0mv\u001b[0m\u001b[0;34m]\u001b[0m \u001b[0;32mfor\u001b[0m \u001b[0mv\u001b[0m \u001b[0;32min\u001b[0m \u001b[0mnodelist\u001b[0m\u001b[0;34m]\u001b[0m\u001b[0;34m)\u001b[0m\u001b[0;34m\u001b[0m\u001b[0m\n\u001b[0m\u001b[1;32m    395\u001b[0m     \u001b[0;32mexcept\u001b[0m \u001b[0mKeyError\u001b[0m \u001b[0;32mas\u001b[0m \u001b[0me\u001b[0m\u001b[0;34m:\u001b[0m\u001b[0;34m\u001b[0m\u001b[0m\n\u001b[1;32m    396\u001b[0m         \u001b[0;32mraise\u001b[0m \u001b[0mnx\u001b[0m\u001b[0;34m.\u001b[0m\u001b[0mNetworkXError\u001b[0m\u001b[0;34m(\u001b[0m\u001b[0;34m'Node %s has no position.'\u001b[0m \u001b[0;34m%\u001b[0m \u001b[0me\u001b[0m\u001b[0;34m)\u001b[0m\u001b[0;34m\u001b[0m\u001b[0m\n",
      "\u001b[0;32m~/code/maplite/lib/python3.6/site-packages/networkx/drawing/nx_pylab.py\u001b[0m in \u001b[0;36m<listcomp>\u001b[0;34m(.0)\u001b[0m\n\u001b[1;32m    392\u001b[0m \u001b[0;34m\u001b[0m\u001b[0m\n\u001b[1;32m    393\u001b[0m     \u001b[0;32mtry\u001b[0m\u001b[0;34m:\u001b[0m\u001b[0;34m\u001b[0m\u001b[0m\n\u001b[0;32m--> 394\u001b[0;31m         \u001b[0mxy\u001b[0m \u001b[0;34m=\u001b[0m \u001b[0mnp\u001b[0m\u001b[0;34m.\u001b[0m\u001b[0masarray\u001b[0m\u001b[0;34m(\u001b[0m\u001b[0;34m[\u001b[0m\u001b[0mpos\u001b[0m\u001b[0;34m[\u001b[0m\u001b[0mv\u001b[0m\u001b[0;34m]\u001b[0m \u001b[0;32mfor\u001b[0m \u001b[0mv\u001b[0m \u001b[0;32min\u001b[0m \u001b[0mnodelist\u001b[0m\u001b[0;34m]\u001b[0m\u001b[0;34m)\u001b[0m\u001b[0;34m\u001b[0m\u001b[0m\n\u001b[0m\u001b[1;32m    395\u001b[0m     \u001b[0;32mexcept\u001b[0m \u001b[0mKeyError\u001b[0m \u001b[0;32mas\u001b[0m \u001b[0me\u001b[0m\u001b[0;34m:\u001b[0m\u001b[0;34m\u001b[0m\u001b[0m\n\u001b[1;32m    396\u001b[0m         \u001b[0;32mraise\u001b[0m \u001b[0mnx\u001b[0m\u001b[0;34m.\u001b[0m\u001b[0mNetworkXError\u001b[0m\u001b[0;34m(\u001b[0m\u001b[0;34m'Node %s has no position.'\u001b[0m \u001b[0;34m%\u001b[0m \u001b[0me\u001b[0m\u001b[0;34m)\u001b[0m\u001b[0;34m\u001b[0m\u001b[0m\n",
      "\u001b[0;31mIndexError\u001b[0m: index 109 is out of bounds for axis 0 with size 17"
     ]
    },
    {
     "data": {
      "image/png": "[encoded data removed]",
      "text/plain": [
       "<Figure size 432x288 with 1 Axes>"
      ]
     },
     "metadata": {},
     "output_type": "display_data"
    }
   ],
   "source": [
    "# Plot results\n",
    "\n",
    "# print(osm_edges)\n",
    "osm_edges_active = []\n",
    "for edge in osm_edges:\n",
    "    if edge[0] in osm_inds and edge[1] in osm_inds:\n",
    "        osm_edges_active.append(edge)\n",
    "osm_edges_active = np.asarray(osm_edges_active)\n",
    "# print(osm_edges_active)\n",
    "\n",
    "G_init = nx.Graph()\n",
    "G_init.add_nodes_from(range(len(osm_nodes_active)))\n",
    "G_init.add_edges_from(osm_edges_active)\n",
    "\n",
    "nx.draw(G_init, pos = osm_nodes_active)\n"
   ]
  },
  {
   "cell_type": "code",
   "execution_count": 5,
   "metadata": {},
   "outputs": [
    {
     "name": "stdout",
     "output_type": "stream",
     "text": [
      "152\n",
      "(111360,) (111360,)\n"
     ]
    },
    {
     "data": {
      "image/png": "[encoded data removed]",
      "text/plain": [
       "<Figure size 432x288 with 1 Axes>"
      ]
     },
     "metadata": {
      "needs_background": "light"
     },
     "output_type": "display_data"
    }
   ],
   "source": [
    "# Get road points\n",
    "interior_pts = None\n",
    "i = 0\n",
    "for obj in devens_map.interiors:\n",
    "\tif i >= 4:\n",
    "\t\tif interior_pts is None:\n",
    "\t\t\tinterior_pts = np.concatenate([np.expand_dims(obj.xy[0], axis=1), np.expand_dims(obj.xy[1], axis=1)], axis=1)\t\n",
    "\t\telse:\n",
    "\t\t\tinterior_pts = np.concatenate([interior_pts, np.concatenate([np.expand_dims(obj.xy[0], axis = 1), np.expand_dims(obj.xy[1], axis = 1)], \\\n",
    "\t\t\t\taxis = 1)], axis = 0)\n",
    "\t\t# print(interior_pts.shape)\n",
    "\t\t# plt.plot(obj.xy[0], obj.xy[1], 'k')\n",
    "\ti += 1\n",
    "\n",
    "# plt.scatter(interior_pts[:,0], interior_pts[:,1])\n",
    "# plt.savefig(plot_dir + 'tmp.png')\n",
    "\n",
    "\n",
    "# # Compute an approximate bounding rectangle of the road points\n",
    "# x_min = np.min(interior_pts[:,0])\n",
    "# x_max = np.max(interior_pts[:,0])\n",
    "# y_min = np.min(interior_pts[:,1])\n",
    "# y_max = np.max(interior_pts[:,1])\n",
    "\n",
    "# # Get osm nodes (that are within a 10 meter radius of the approx bounding rectangle)\n",
    "# osm_thresh = 10.\n",
    "\n",
    "# osm_indices = []\n",
    "# for i in range(osm_nodes.shape[0]):\n",
    "# \tif x_min < osm_nodes[i,0] < x_max and y_min < osm_nodes[i,1] < y_max:\n",
    "# \t\tosm_indices.append(i)\n",
    "\n",
    "# Compute the centroid of the road points\n",
    "x_cent = np.mean(interior_pts[:,0])\n",
    "y_cent = np.mean(interior_pts[:,1])\n",
    "\n",
    "# Get OSM nodes that are within a distance threshold from the centroid\n",
    "osm_thresh = 10000.\n",
    "osm_indices = []\n",
    "for i in range(osm_nodes.shape[0]):\n",
    "\tif np.sqrt((osm_nodes[i,0]-x_cent)**2 + (osm_nodes[i,1]-y_cent)**2) <= osm_thresh:\n",
    "\t\tosm_indices.append(i)\n",
    "print(len(osm_indices))\n",
    "plt.scatter([osm_nodes[i,0] for i in osm_indices], [osm_nodes[i,1] for i in osm_indices])\n",
    "plt.savefig(plot_dir + 'tmp.png')\n",
    "\n",
    "\n",
    "scan = cloud.iloc[0]['scan_utm']\n",
    "print(scan['x'].shape, scan['y'].shape)"
   ]
  },
  {
   "cell_type": "code",
   "execution_count": null,
   "metadata": {},
   "outputs": [],
   "source": []
  }
 ],
 "metadata": {
  "kernelspec": {
   "display_name": "maplite",
   "language": "python",
   "name": "maplite"
  },
  "language_info": {
   "codemirror_mode": {
    "name": "ipython",
    "version": 3
   },
   "file_extension": ".py",
   "mimetype": "text/x-python",
   "name": "python",
   "nbconvert_exporter": "python",
   "pygments_lexer": "ipython3",
   "version": "3.6.5"
  }
 },
 "nbformat": 4,
 "nbformat_minor": 2
}
