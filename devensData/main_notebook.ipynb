{
 "cells": [
  {
   "cell_type": "code",
   "execution_count": 2,
   "metadata": {},
   "outputs": [],
   "source": [
    "import _pickle as pkl\n",
    "import matplotlib\n",
    "matplotlib.use('agg')\n",
    "import matplotlib.pyplot as plt\n",
    "import shapely.geometry as geo\n",
    "import numpy as np\n",
    "import networkx as nx\n",
    "import pandas as pd\n",
    "from scipy.optimize import minimize"
   ]
  },
  {
   "cell_type": "code",
   "execution_count": 3,
   "metadata": {},
   "outputs": [],
   "source": [
    "# OSM\n",
    "nodes = pd.read_csv('devens_osm/osm_nodes.txt', header=None)\n",
    "edges = np.genfromtxt('devens_osm/osm_edges.txt', delimiter=',', dtype=int)\n",
    "# Devens map (GT)\n",
    "devens = pkl.load(open('devens_map/devens_map_poly.pkl', 'rb'), encoding = 'bytes')\n",
    "# # LiDAR scans\n",
    "# df = pkl.load(open('pointclouds/scans_in_utm_small.pkl', 'r'))\n",
    "df = pd.read_pickle('pointclouds/scans_in_utm_small.pkl')"
   ]
  },
  {
   "cell_type": "code",
   "execution_count": 5,
   "metadata": {},
   "outputs": [],
   "source": [
    "# Construct a graph (OSM)\n",
    "G = nx.Graph()\n",
    "#G.add_nodes_from(range(len(nodes)))\n",
    "i = 0\n",
    "for row in nodes.iterrows():\n",
    "    G.add_node(i, x=row[1][0], y=row[1][1])\n",
    "    i = i+1"
   ]
  },
  {
   "cell_type": "code",
   "execution_count": 7,
   "metadata": {},
   "outputs": [],
   "source": [
    "xs = nx.get_node_attributes(G, 'x')\n",
    "ys = nx.get_node_attributes(G, 'y')\n",
    "#print(xs[0])\n",
    "G.add_edges_from(edges)\n",
    "scan = df.iloc[0]['scan_utm']\n",
    "pcl_scan = np.zeros((2, 3, 111360))\n",
    "#print(scan['x'].shape)\n",
    "pcl_coor = np.zeros((2,2))\n",
    "for i in range(2):\n",
    "    pcl_scan[i,0,:] = scan['x']\n",
    "    pcl_scan[i,1,:] = scan['y']\n",
    "    pcl_scan[i,2,:] = scan['z']\n",
    "    pcl_coor[i,:] = df.iloc[i]['x'], df.iloc[i]['y']"
   ]
  },
  {
   "cell_type": "code",
   "execution_count": 9,
   "metadata": {},
   "outputs": [
    {
     "name": "stdout",
     "output_type": "stream",
     "text": [
      "33628 44182\n"
     ]
    }
   ],
   "source": [
    "count1 = 0\n",
    "count2 = 0\n",
    "road_pts = np.zeros((1000, 2))\n",
    "for i in range(111360):\n",
    "    if pcl_scan[0,1,i] < -2.5:\n",
    "        if count1 < 1000:\n",
    "            road_pts[count1, 0] = pcl_scan[0,0,i]\n",
    "            road_pts[count1, 1] = pcl_scan[0,2,i]\n",
    "        count1 = count1 + 1\n",
    "\n",
    "    if pcl_scan[0,1,i] < 0:\n",
    "        count2 = count2 + 1\n",
    "print(count1, count2)"
   ]
  },
  {
   "cell_type": "code",
   "execution_count": 10,
   "metadata": {},
   "outputs": [],
   "source": [
    "def transform_devens_2d(x):\n",
    "    devens_new = np.zeros((devens_arr.shape[0], 2))\n",
    "    for i in range(devens_arr.shape[0]):\n",
    "        x_new = np.cos(x[0]) * devens_arr[i,0] + np.sin(x[0]) * devens_arr[i,1] + x[1]\n",
    "        y_new = -np.sin(x[0]) * devens_arr[i,0] + np.cos(x[0]) * devens_arr[i,1] + x[2]\n",
    "\n",
    "        devens_new[i,0] = x_new\n",
    "        devens_new[i,1] = y_new\n",
    "    return devens_new"
   ]
  },
  {
   "cell_type": "code",
   "execution_count": 11,
   "metadata": {},
   "outputs": [],
   "source": [
    "def find_closest(x_new, y_new):\n",
    "    closest = 100000.0\n",
    "    for j in range(len(xs)):\n",
    "        dist = np.sqrt((x_new - xs[j])**2 + (y_new - ys[j])**2)\n",
    "        if dist == 0:\n",
    "            return dist\n",
    "        if dist < closest:\n",
    "            closest = dist\n",
    "\n",
    "    return closest"
   ]
  },
  {
   "cell_type": "code",
   "execution_count": 13,
   "metadata": {},
   "outputs": [],
   "source": [
    "\n",
    "def cost_func_2d(x):\n",
    "    my_cost = 0\n",
    "    for i in range(devens_arr.shape[0]//100):\n",
    "        x_new = np.cos(x[0]) * devens_arr[i*100,0] + np.sin(x[0]) * devens_arr[i*100,1] + x[1]\n",
    "        y_new = -np.sin(x[0]) * devens_arr[i*100,0] + np.cos(x[0]) * devens_arr[i*100,1] + x[2]\n",
    "        my_cost = my_cost + find_closest(x_new, y_new)\n",
    "    return my_cost"
   ]
  },
  {
   "cell_type": "code",
   "execution_count": 14,
   "metadata": {},
   "outputs": [],
   "source": [
    "\n",
    "devens_exterior = np.asarray(devens.exterior.coords[:])\n",
    "devens_interior = []\n",
    "for interior in devens.interiors:\n",
    "    devens_interior += interior.coords[:]\n",
    "devens_interior = np.asarray(devens_interior)\n",
    "devens_arr = np.concatenate((devens_exterior, devens_interior), axis = 0)"
   ]
  },
  {
   "cell_type": "code",
   "execution_count": 15,
   "metadata": {},
   "outputs": [
    {
     "name": "stdout",
     "output_type": "stream",
     "text": [
      "Optimization terminated successfully.\n",
      "         Current function value: 9.185748\n",
      "         Iterations: 131\n",
      "         Function evaluations: 263\n"
     ]
    }
   ],
   "source": [
    "devens_arr = np.zeros((1000,2))\n",
    "devens_arr = road_pts\n",
    "#print(devens.exterior.coords[1,0])\n",
    "#x0 = np.array([0.5, 0.1, 0.1, 0.5, 1.0, 0.8, 1.2])\n",
    "x0 = np.array([0.1, 0.8, 1.2])\n",
    "res = minimize(cost_func_2d, x0, method='nelder-mead', options={'xtol':1e-8, 'disp':True})\n",
    "#res_bounded = minimize(cost_func_2d, x0, method='trust-constr', options={'verbose':1}, bounds=bounds)\n",
    "#print(res.x)\n",
    "devens_trans = transform_devens_2d(res.x)"
   ]
  },
  {
   "cell_type": "code",
   "execution_count": 19,
   "metadata": {},
   "outputs": [],
   "source": [
    "plt.scatter(devens_trans[:,0], devens_trans[:,1])\n",
    "plt.show()\n",
    "plt.savefig('/home/sai/TopometricRegistration/devensData/sai_devens.png')\n",
    "plt.scatter(road_pts[:,0], road_pts[:,1])\n",
    "plt.show()\n",
    "plt.savefig('/home/sai/TopometricRegistration/devensData/sai_road.png')"
   ]
  },
  {
   "cell_type": "code",
   "execution_count": null,
   "metadata": {},
   "outputs": [],
   "source": []
  }
 ],
 "metadata": {
  "kernelspec": {
   "display_name": "Python 3",
   "language": "python",
   "name": "python3"
  },
  "language_info": {
   "codemirror_mode": {
    "name": "ipython",
    "version": 3
   },
   "file_extension": ".py",
   "mimetype": "text/x-python",
   "name": "python",
   "nbconvert_exporter": "python",
   "pygments_lexer": "ipython3",
   "version": "3.6.5"
  }
 },
 "nbformat": 4,
 "nbformat_minor": 2
}
