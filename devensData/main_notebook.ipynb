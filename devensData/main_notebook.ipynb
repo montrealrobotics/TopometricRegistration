{
 "cells": [
  {
   "cell_type": "code",
   "execution_count": 31,
   "metadata": {},
   "outputs": [],
   "source": [
    "import _pickle as pkl\n",
    "import matplotlib\n",
    "matplotlib.use('agg')\n",
    "import matplotlib.pyplot as plt\n",
    "import shapely.geometry as geo\n",
    "import numpy as np\n",
    "import networkx as nx\n",
    "import pandas as pd\n",
    "from scipy.optimize import minimize"
   ]
  },
  {
   "cell_type": "code",
   "execution_count": 33,
   "metadata": {},
   "outputs": [],
   "source": [
    "# File paths\n",
    "devens_map_file = '/home/sai/TopometricRegistration/devensData/devens_map/devens_map_poly.pkl'\n",
    "osm_nodes_file = '/home/sai/TopometricRegistration/devensData/devens_osm/osm_nodes.txt'\n",
    "osm_edges_file = '/home/sai/TopometricRegistration/devensData/devens_osm/osm_edges.txt'\n",
    "cloud_file = '/home/sai/Downloads/scans_in_utm_annotated_small.pkl'\n",
    "plot_dir = '/home/sai/TopometricRegistration/cache/'\n",
    "\n",
    "ceres_build_dir = '/home/sai/TopometricRegistration/ceresCode/build/'\n",
    "ceres_input_dir = '/home/sai/TopometricRegistration/ceresCode/data/'"
   ]
  },
  {
   "cell_type": "code",
   "execution_count": 34,
   "metadata": {},
   "outputs": [],
   "source": [
    "# Load in data\n",
    "devens_map = pkl.load(open(devens_map_file, 'rb'), encoding = 'bytes')\n",
    "osm_nodes = np.genfromtxt(osm_nodes_file, delimiter = ',')\n",
    "osm_edges = np.genfromtxt(osm_edges_file, delimiter = ',', dtype = int)\n",
    "cloud = pd.read_pickle(cloud_file)"
   ]
  },
  {
   "cell_type": "code",
   "execution_count": 36,
   "metadata": {},
   "outputs": [],
   "source": [
    "scan_idx = 0\n",
    "\n",
    "scan = cloud.iloc[scan_idx]['scan_utm']\n",
    "road_mask = cloud.iloc[scan_idx]['is_road_truth']\n",
    "road_mask = np.where(road_mask)\n",
    "xmin = min(scan['x'])\n",
    "xmax = max(scan['x'])\n",
    "ymin = min(scan['y'])\n",
    "ymax = max(scan['y'])\n",
    "# print(cloud.iloc[0]['is_road_truth'])\n",
    "# print(xmin, xmax, ymin, ymax)\n",
    "# plt.plot(scan['x'], scan['y'], '.', ms=1)\n",
    "\n",
    "# plot_coords = lambda obj: plt.plot(obj.xy[0],obj.xy[1], 'k')\n",
    "# plot_coords(devens_map.exterior)\n",
    "# [plot_coords(x) for x in devens_map.interiors]\n",
    "# plt.plot((xmin+xmax)/2,(ymin+ymax)/2,'gx')\n",
    "\n",
    "# Extract OSM nodes that are within the distance threshold\n",
    "osm_thresh = 20.\n",
    "xinds = np.where(np.logical_and(osm_nodes[:,0] > xmin, osm_nodes[:,0] < xmax))\n",
    "yinds = np.where(np.logical_and(osm_nodes[:,1] > ymin, osm_nodes[:,1] < ymax))\n",
    "osm_inds = np.intersect1d(xinds, yinds)\n",
    "\n",
    "# Active set of OSM nodes\n",
    "osm_nodes_active = osm_nodes[osm_inds]\n",
    "\n",
    "# Extract LiDAR scan points that correspond to road\n",
    "scan_active = scan[road_mask]\n",
    "# print(scan_active, scan_active.shape)\n",
    "scan_active = np.asarray([[item[0] for item in scan_active], [item[1] for item in scan_active]]).T"
   ]
  },
  {
   "cell_type": "code",
   "execution_count": 37,
   "metadata": {},
   "outputs": [
    {
     "name": "stdout",
     "output_type": "stream",
     "text": [
      "(22784, 2)\n",
      "(17, 2)\n"
     ]
    }
   ],
   "source": [
    "print(scan_active.shape)\n",
    "print(osm_nodes_active.shape) "
   ]
  },
  {
   "cell_type": "code",
   "execution_count": 42,
   "metadata": {},
   "outputs": [],
   "source": [
    "def transform_devens_2d(x):\n",
    "    osm_new = np.zeros((osm_nodes_active.shape[0], 2))\n",
    "    for i in range(osm_nodes_active.shape[0]):\n",
    "        x_new = np.cos(x[0]) * osm_nodes_active[i,0] + np.sin(x[0]) * osm_nodes_active[i,1] + x[1]\n",
    "        y_new = -np.sin(x[0]) * osm_nodes_active[i,0] + np.cos(x[0]) * osm_nodes_active[i,1] + x[2]\n",
    "\n",
    "        osm_new[i,0] = x_new\n",
    "        osm_new[i,1] = y_new\n",
    "    return osm_new"
   ]
  },
  {
   "cell_type": "code",
   "execution_count": 43,
   "metadata": {},
   "outputs": [],
   "source": [
    "def find_closest(x_new, y_new):\n",
    "    closest = 100000.0\n",
    "    for j in scan_active.shape[0]:\n",
    "        dist = np.sqrt((x_new - scan_active[j,0])**2 + (y_new - scan_active[j,1])**2)\n",
    "        if dist == 0:\n",
    "            return dist\n",
    "        if dist < closest:\n",
    "            closest = dist\n",
    "\n",
    "    return closest"
   ]
  },
  {
   "cell_type": "code",
   "execution_count": 44,
   "metadata": {},
   "outputs": [],
   "source": [
    "\n",
    "def cost_func_2d(x):\n",
    "    my_cost = 0\n",
    "    for i in range(osm_nodes_active.shape[0]//100):\n",
    "        dx = np.random.normal(0, 1)\n",
    "        dy = np.random.normal(0, 1)\n",
    "        x_noise = osm_nodes_active[i*100,0] + dx\n",
    "        y_noise = osm_nodes_active[i*100,1] + dy\n",
    "        x_new = np.cos(x[0]) * x_noise + np.sin(x[0]) * y_noise + x[1]\n",
    "        y_new = -np.sin(x[0]) * x_noise + np.cos(x[0]) * y_noise + x[2]\n",
    "        my_cost = my_cost + find_closest(x_new, y_new)\n",
    "    return my_cost"
   ]
  },
  {
   "cell_type": "code",
   "execution_count": 46,
   "metadata": {},
   "outputs": [
    {
     "name": "stdout",
     "output_type": "stream",
     "text": [
      "Optimization terminated successfully.\n",
      "         Current function value: 0.000000\n",
      "         Iterations: 24\n",
      "         Function evaluations: 119\n"
     ]
    }
   ],
   "source": [
    "# devens_arr = np.zeros((1000,2))\n",
    "# devens_arr = road_pts\n",
    "#print(devens.exterior.coords[1,0])\n",
    "#x0 = np.array([0.5, 0.1, 0.1, 0.5, 1.0, 0.8, 1.2])\n",
    "x0 = np.array([0.1, 0.8, 1.2])\n",
    "res = minimize(cost_func_2d, x0, method='nelder-mead', options={'xtol':1e-8, 'disp':True})\n",
    "#res_bounded = minimize(cost_func_2d, x0, method='trust-constr', options={'verbose':1}, bounds=bounds)\n",
    "#print(res.x)\n",
    "devens_trans = transform_devens_2d(res.x)"
   ]
  },
  {
   "cell_type": "code",
   "execution_count": 49,
   "metadata": {},
   "outputs": [],
   "source": [
    "plt.scatter(devens_trans[:,0], devens_trans[:,1])\n",
    "plt.show()\n",
    "plt.savefig('/home/sai/TopometricRegistration/devensData/devens.png')\n",
    "plt.scatter(road_pts[:,0], road_pts[:,1])\n",
    "plt.show()\n",
    "plt.savefig('/home/sai/TopometricRegistration/devensData/road.png')"
   ]
  },
  {
   "cell_type": "code",
   "execution_count": null,
   "metadata": {},
   "outputs": [],
   "source": []
  }
 ],
 "metadata": {
  "kernelspec": {
   "display_name": "Python 3",
   "language": "python",
   "name": "python3"
  },
  "language_info": {
   "codemirror_mode": {
    "name": "ipython",
    "version": 3
   },
   "file_extension": ".py",
   "mimetype": "text/x-python",
   "name": "python",
   "nbconvert_exporter": "python",
   "pygments_lexer": "ipython3",
   "version": "3.6.5"
  }
 },
 "nbformat": 4,
 "nbformat_minor": 2
}
