{
 "cells": [
  {
   "cell_type": "code",
   "execution_count": 60,
   "metadata": {},
   "outputs": [],
   "source": [
    "import _pickle as pkl\n",
    "import matplotlib\n",
    "matplotlib.use('agg')\n",
    "import matplotlib.pyplot as plt\n",
    "import shapely.geometry as geo\n",
    "import numpy as np\n",
    "import networkx as nx\n",
    "import pandas as pd\n",
    "from scipy.optimize import minimize"
   ]
  },
  {
   "cell_type": "code",
   "execution_count": 61,
   "metadata": {},
   "outputs": [],
   "source": [
    "# File paths\n",
    "# devens_map_file = '/home/sai/TopometricRegistration/devensData/devens_map/devens_map_poly.pkl'\n",
    "osm_nodes_file = '/home/sai/TopometricRegistration/devensData/devens_osm/osm_nodes.txt'\n",
    "osm_edges_file = '/home/sai/TopometricRegistration/devensData/devens_osm/osm_edges.txt'\n",
    "osm_nodes_gt_file = '/home/sai/TopometricRegistration/devensData/devens_osm/osm_nodes_truth.txt'\n",
    "osm_edges_gt_file = '/home/sai/TopometricRegistration/devensData/devens_osm/osm_edges_truth.txt'\n",
    "cloud_file = '/home/sai/Downloads/scans_in_utm_annotated_small.pkl'\n",
    "plot_dir = '/home/sai/TopometricRegistration/cache/'"
   ]
  },
  {
   "cell_type": "code",
   "execution_count": 62,
   "metadata": {},
   "outputs": [],
   "source": [
    "# Load in data\n",
    "# devens_map = pkl.load(open(devens_map_file, 'rb'), encoding = 'bytes')\n",
    "osm_nodes = np.genfromtxt(osm_nodes_file, delimiter = ',')\n",
    "osm_edges = np.genfromtxt(osm_edges_file, delimiter = ',', dtype = int)\n",
    "osm_nodes_gt = np.genfromtxt(osm_nodes_gt_file, delimiter = ',')\n",
    "osm_edges_gt = np.genfromtxt(osm_edges_gt_file, delimiter = ',', dtype = int)\n",
    "\n",
    "cloud = pd.read_pickle(cloud_file)"
   ]
  },
  {
   "cell_type": "code",
   "execution_count": 76,
   "metadata": {},
   "outputs": [],
   "source": [
    "scan_idx = 0\n",
    "\n",
    "scan = cloud.iloc[scan_idx]['scan_utm']\n",
    "road_mask = cloud.iloc[scan_idx]['is_road_truth']\n",
    "road_mask = np.where(road_mask)\n",
    "xmin = min(scan['x'])\n",
    "xmax = max(scan['x'])\n",
    "ymin = min(scan['y'])\n",
    "ymax = max(scan['y'])\n",
    "# print(cloud.iloc[0]['is_road_truth'])\n",
    "# print(xmin, xmax, ymin, ymax)\n",
    "# plt.plot(scan['x'], scan['y'], '.', ms=1)\n",
    "\n",
    "# plot_coords = lambda obj: plt.plot(obj.xy[0],obj.xy[1], 'k')\n",
    "# plot_coords(devens_map.exterior)\n",
    "# [plot_coords(x) for x in devens_map.interiors]\n",
    "# plt.plot((xmin+xmax)/2,(ymin+ymax)/2,'gx')\n",
    "\n",
    "# Extract OSM nodes that are within the distance threshold\n",
    "osm_thresh = 20.\n",
    "xinds = np.where(np.logical_and(osm_nodes[:,0] > xmin, osm_nodes[:,0] < xmax))\n",
    "yinds = np.where(np.logical_and(osm_nodes[:,1] > ymin, osm_nodes[:,1] < ymax))\n",
    "osm_inds = np.intersect1d(xinds, yinds)\n",
    "\n",
    "xinds_gt = np.where(np.logical_and(osm_nodes_gt[:,0] > xmin, osm_nodes_gt[:,0] < xmax))\n",
    "yinds_gt = np.where(np.logical_and(osm_nodes_gt[:,1] > ymin, osm_nodes_gt[:,1] < ymax))\n",
    "osm_inds_gt = np.intersect1d(xinds_gt, yinds_gt)\n",
    "\n",
    "\n",
    "\n",
    "# Active set of OSM nodes\n",
    "osm_nodes_active = osm_nodes[osm_inds]\n",
    "osm_nodes_gt_active = osm_nodes_gt[osm_inds_gt]\n",
    "\n",
    "# Extract LiDAR scan points that correspond to road\n",
    "scan_active = scan[road_mask]\n",
    "# print(scan_active, scan_active.shape)\n",
    "scan_active = np.asarray([[item[0] for item in scan_active], [item[1] for item in scan_active]]).T"
   ]
  },
  {
   "cell_type": "code",
   "execution_count": 77,
   "metadata": {},
   "outputs": [
    {
     "name": "stdout",
     "output_type": "stream",
     "text": [
      "(22784, 2)\n",
      "(17, 2)\n",
      "(42, 2)\n",
      "[[ 66.45848536 -85.33840207]\n",
      " [-27.52063013 -40.63596877]\n",
      " [ 37.22779105  62.41563   ]\n",
      " [ 62.59246237 -27.2863436 ]\n",
      " [-12.23221637  10.86993765]\n",
      " [-71.48991966 -90.86051885]\n",
      " [-49.92909109  34.19210688]\n",
      " [ 69.32231982 -35.7183733 ]\n",
      " [ 53.37104194 -19.66702505]\n",
      " [-69.14457361  48.35440085]\n",
      " [  2.1352591    4.02614881]\n",
      " [ 75.10707512 -69.57558742]\n",
      " [ 73.00947186 -44.1681224 ]\n",
      " [ 75.25648382 -59.35402905]\n",
      " [-29.58995977  20.74008314]\n",
      " [-46.78421448 -65.49840991]\n",
      " [ -7.80239328 -11.67475538]]\n",
      "[[-79.70336674  58.34701421]\n",
      " [-75.24918603 -92.21131728]\n",
      " [-70.1548009   49.85340524]\n",
      " [-64.42676331 -81.19537074]\n",
      " [-64.14919309  44.79259815]\n",
      " [-54.8643344  -71.07749082]\n",
      " [-54.0302763   37.14738401]\n",
      " [-45.90394257 -61.12196617]\n",
      " [-38.5673202  -52.39554408]\n",
      " [-35.98858475  24.38891031]\n",
      " [-30.25678473  20.52235022]\n",
      " [-28.75003217 -39.95647297]\n",
      " [-21.41484873  15.07403683]\n",
      " [-19.7131823  -27.54273787]\n",
      " [ -9.53140127   8.32956229]\n",
      " [ -9.10116343 -11.88334233]\n",
      " [ -6.95953496   6.72294638]\n",
      " [ -4.70568915  -4.62033961]\n",
      " [ -4.17257896   4.43399933]\n",
      " [ -1.69380513   1.56806549]\n",
      " [  1.70537299   1.50278981]\n",
      " [  4.79373025   1.03396085]\n",
      " [  7.71837826   0.20635226]\n",
      " [ 11.01372078  -1.08059253]\n",
      " [ 33.55755377 -11.7029988 ]\n",
      " [ 51.52014004 -20.45871458]\n",
      " [ 56.49293232 -23.24853804]\n",
      " [ 60.74397945 -26.2575579 ]\n",
      " [ 64.34111541 -29.44328315]\n",
      " [ 64.5191824  -87.1012549 ]\n",
      " [ 67.06327855 -32.52960887]\n",
      " [ 67.64812715 -82.03524484]\n",
      " [ 69.25714745 -35.8611581 ]\n",
      " [ 70.47614804 -76.90385825]\n",
      " [ 71.37779279 -40.21034964]\n",
      " [ 72.43907719 -72.55742921]\n",
      " [ 73.15787662 -45.18089592]\n",
      " [ 73.97436668 -68.05219886]\n",
      " [ 74.28743108 -49.86031053]\n",
      " [ 74.88780193 -63.92423871]\n",
      " [ 74.99967862 -55.01945788]\n",
      " [ 75.21664717 -59.7684922 ]]\n"
     ]
    }
   ],
   "source": [
    "print(scan_active.shape)\n",
    "print(osm_nodes_active.shape) \n",
    "print(osm_nodes_gt_active.shape)\n",
    "print(osm_nodes_active)\n",
    "print(osm_nodes_gt_active)\n"
   ]
  },
  {
   "cell_type": "code",
   "execution_count": 78,
   "metadata": {},
   "outputs": [],
   "source": [
    "def transform_devens_2d(x):\n",
    "    osm_new = np.zeros((osm_nodes_active.shape[0], 2))\n",
    "    for i in range(osm_nodes_active.shape[0]):\n",
    "        x_new = np.cos(x[0]) * osm_nodes_active[i,0] + np.sin(x[0]) * osm_nodes_active[i,1] + x[1]\n",
    "        y_new = -np.sin(x[0]) * osm_nodes_active[i,0] + np.cos(x[0]) * osm_nodes_active[i,1] + x[2]\n",
    "\n",
    "        osm_new[i,0] = x_new\n",
    "        osm_new[i,1] = y_new\n",
    "    return osm_new"
   ]
  },
  {
   "cell_type": "code",
   "execution_count": 79,
   "metadata": {},
   "outputs": [],
   "source": [
    "def find_closest(x_new, y_new):\n",
    "    closest = 100000.0\n",
    "    for j in scan_active.shape[0]:\n",
    "        dist = np.sqrt((x_new - scan_active[j,0])**2 + (y_new - scan_active[j,1])**2)\n",
    "        if dist == 0:\n",
    "            return dist\n",
    "        if dist < closest:\n",
    "            closest = dist\n",
    "\n",
    "    return closest"
   ]
  },
  {
   "cell_type": "code",
   "execution_count": 80,
   "metadata": {},
   "outputs": [],
   "source": [
    "\n",
    "def cost_func_2d(x):\n",
    "    my_cost = 0\n",
    "    for i in range(osm_nodes_active.shape[0]//100):\n",
    "        dx = np.random.normal(0, 1)\n",
    "        dy = np.random.normal(0, 1)\n",
    "        x_noise = osm_nodes_active[i*100,0] + dx\n",
    "        y_noise = osm_nodes_active[i*100,1] + dy\n",
    "        x_new = np.cos(x[0]) * x_noise + np.sin(x[0]) * y_noise + x[1]\n",
    "        y_new = -np.sin(x[0]) * x_noise + np.cos(x[0]) * y_noise + x[2]\n",
    "        my_cost = my_cost + find_closest(x_new, y_new)\n",
    "    return my_cost"
   ]
  },
  {
   "cell_type": "code",
   "execution_count": 81,
   "metadata": {},
   "outputs": [],
   "source": [
    "def find_error(osm1, osm2):\n",
    "    masks = np.zeros(osm2.shape[0])\n",
    "    error = 0\n",
    "    for i in range(osm1.shape[0]):\n",
    "        closest = 10000.0\n",
    "        for j in range(osm2.shape[0]):\n",
    "            if masks[j] == 0:\n",
    "                dist = np.sqrt((osm1[i,0] - osm2[j,0])**2 + (osm1[i,1] - osm2[j,1])**2)\n",
    "                if dist == 0:\n",
    "                    error = error + dist\n",
    "                    masks[j] = 1\n",
    "                    break\n",
    "                if dist < closest:\n",
    "                    closest = dist\n",
    "                    indi = j\n",
    "        error = error + closest\n",
    "        masks[indi] = 1\n",
    "    return error\n",
    "                    "
   ]
  },
  {
   "cell_type": "code",
   "execution_count": 82,
   "metadata": {},
   "outputs": [
    {
     "name": "stdout",
     "output_type": "stream",
     "text": [
      "Optimization terminated successfully.\n",
      "         Current function value: 0.000000\n",
      "         Iterations: 24\n",
      "         Function evaluations: 119\n"
     ]
    }
   ],
   "source": [
    "# devens_arr = np.zeros((1000,2))\n",
    "# devens_arr = road_pts\n",
    "#print(devens.exterior.coords[1,0])\n",
    "#x0 = np.array([0.5, 0.1, 0.1, 0.5, 1.0, 0.8, 1.2])\n",
    "x0 = np.array([0.1, 0.8, 1.2])\n",
    "res = minimize(cost_func_2d, x0, method='nelder-mead', options={'xtol':1e-8, 'disp':True})\n",
    "#res_bounded = minimize(cost_func_2d, x0, method='trust-constr', options={'verbose':1}, bounds=bounds)\n",
    "#print(res.x)\n",
    "osm_trans = transform_devens_2d(res.x)"
   ]
  },
  {
   "cell_type": "code",
   "execution_count": 83,
   "metadata": {},
   "outputs": [],
   "source": [
    "plt.scatter(devens_trans[:,0], devens_trans[:,1])\n",
    "plt.show()\n",
    "plt.savefig('/home/sai/TopometricRegistration/devensData/devens.png')\n",
    "plt.scatter(road_pts[:,0], road_pts[:,1])\n",
    "plt.show()\n",
    "plt.savefig('/home/sai/TopometricRegistration/devensData/road.png')"
   ]
  },
  {
   "cell_type": "code",
   "execution_count": 84,
   "metadata": {},
   "outputs": [
    {
     "name": "stdout",
     "output_type": "stream",
     "text": [
      "103.94972209818694 158.98094210888306\n"
     ]
    }
   ],
   "source": [
    "ori_error = find_error(osm_nodes_active, osm_nodes_gt_active)\n",
    "opti_error = find_error(osm_trans, osm_nodes_gt_active)\n",
    "print(ori_error, opti_error)"
   ]
  },
  {
   "cell_type": "code",
   "execution_count": null,
   "metadata": {},
   "outputs": [],
   "source": []
  }
 ],
 "metadata": {
  "kernelspec": {
   "display_name": "Python 3",
   "language": "python",
   "name": "python3"
  },
  "language_info": {
   "codemirror_mode": {
    "name": "ipython",
    "version": 3
   },
   "file_extension": ".py",
   "mimetype": "text/x-python",
   "name": "python",
   "nbconvert_exporter": "python",
   "pygments_lexer": "ipython3",
   "version": "3.6.5"
  }
 },
 "nbformat": 4,
 "nbformat_minor": 2
}
